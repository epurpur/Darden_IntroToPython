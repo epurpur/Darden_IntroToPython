{
 "cells": [
  {
   "cell_type": "markdown",
   "metadata": {},
   "source": [
    "# Intro to Python - Darden \n",
    "\n",
    "Today we will be taking a crash course through the world of python. Python is a free and open source interpreted programming language, used for a huge variety of purposes. Let's start with the basics."
   ]
  },
  {
   "cell_type": "markdown",
   "metadata": {},
   "source": [
    "# Basic Data Types\n",
    "\n",
    "These are the basic data structures that compose your data in Python. Python interprets these differently and they all have their own unique properties\n",
    "\n",
    "## Variables\n",
    "A variable is a reserved memory location to store values. A variable is the name python gives the computer for processing. All variables have a data type and size. You can give your variable (almost) any name and store (almost) anything in it.\n",
    "\n",
    "## Strings\n",
    "Strings are interpreted as text\n",
    "\n",
    "\n",
    "## Comments\n",
    "Anything on a line after the # is ignored by the interpreter.\n",
    "Use comments to turn stuff on and off, document your code, etc."
   ]
  },
  {
   "cell_type": "code",
   "execution_count": null,
   "metadata": {},
   "outputs": [],
   "source": [
    "#Strings and variables   (this is a comment)\n",
    "\n",
    "variable1 = \"apple\"\n",
    "variable2 = \"1234\"\n",
    "variable3 = \"This is a string\"\n",
    "Variable3 = \"This is also a string\"     #variable names are case sensitive!\n"
   ]
  },
  {
   "cell_type": "markdown",
   "metadata": {},
   "source": [
    "## Functions\n",
    "\n",
    "Functions are re-usable pieces of code. Some come with your base installation of python (like print() below). Some are imported from other libraries. Some you write yourself.\n",
    "\n",
    "A function should do ONE thing. If you need to do an operation 10,000 times, functions come in handy!"
   ]
  },
  {
   "cell_type": "code",
   "execution_count": null,
   "metadata": {},
   "outputs": [],
   "source": [
    "#print() is a function you will probably use a lot. print()\n",
    "#prints the output to the console. The console is usually a \n",
    "#command line-esque box, like you see below when running this cell\n",
    "\n",
    "print(variable1)\n",
    "print(variable2)\n",
    "print(variable3)\n",
    "print(Variable3)"
   ]
  },
  {
   "cell_type": "markdown",
   "metadata": {},
   "source": [
    "## Ints and Floats\n",
    "These are both numeric data types but are not the same!"
   ]
  },
  {
   "cell_type": "code",
   "execution_count": null,
   "metadata": {},
   "outputs": [],
   "source": [
    "num1 = 3        #int\n",
    "num2 = 3.0      #float\n",
    "\n",
    "print(\"num1 is a: \",type(num1))\n",
    "print(\"num2 is a: \", type(num2))\n"
   ]
  },
  {
   "cell_type": "code",
   "execution_count": null,
   "metadata": {},
   "outputs": [],
   "source": [
    "#you can do math with numbers, variables, and strings!\n",
    "\n",
    "num3 = 3 + 1\n",
    "num4 = num1 + 10\n",
    "num5 = \"Hello\"\n",
    "num6 = \"World\"\n",
    "num7 = num5 + num6\n",
    "\n",
    "print(num3)\n",
    "print(num4)\n",
    "print(num7)"
   ]
  },
  {
   "cell_type": "markdown",
   "metadata": {},
   "source": [
    "## Error Messages\n",
    "Get used to them. \n",
    "\n",
    "Error messages attempt to tell you what broke in your code, and where. Sometimes they are helpful, sometimes not. Sometimes an error in your code does not manifest itself until later.\n",
    "\n",
    "Error messages are meant to be read from the bottom up. In the below error, you see the type is a 'TypeError' and it tells us we cannot add an 'int' to a 'str'. When outside Jupyter Notebooks, you will also be told which line in your code broke."
   ]
  },
  {
   "cell_type": "code",
   "execution_count": null,
   "metadata": {},
   "outputs": [],
   "source": [
    "#You can't add an integer and a string\n",
    "print(3 + \"Hello World\")"
   ]
  },
  {
   "cell_type": "markdown",
   "metadata": {},
   "source": [
    "## Lists and Dictionaries\n",
    "These data types can hold multiple items in them. They function a bit differently though and are used for different purposes.\n",
    "\n",
    "### List\n",
    "A list is an ordered, mutable (changeable) collection of objects.\n",
    "In python, a list is written with square brackets [ ]. Items in a list are accessed through indexing.\n",
    "\n",
    "### Dictionary\n",
    "A dictionary is unordered, mutable, and indexed. In python, a dictionary is written with curly braces {}. Items in the dictionary are stored as key,value pairs. The value is accessed through the key. The first item is the key, second is the value."
   ]
  },
  {
   "cell_type": "code",
   "execution_count": null,
   "metadata": {},
   "outputs": [],
   "source": [
    "#this is a list\n",
    "cities_list = ['New York', 'London', 'Bangkok', 'Tokyo', 'Mumbai']\n",
    "\n",
    "#this is a dictionary\n",
    "cities_dict = {'United States' : 'Washington',\n",
    "               'France' : 'Paris',\n",
    "               'China' : 'Beijing',\n",
    "               'India' : 'New Delhi',\n",
    "               'Australia' : 'Canberra',\n",
    "               'Iran' : 'Tehran'}"
   ]
  },
  {
   "cell_type": "code",
   "execution_count": null,
   "metadata": {},
   "outputs": [],
   "source": [
    "#Indexing: Rembember that lists are ORDERED. This means every item\n",
    "#in the list has a location, start at 0. \n",
    "\n",
    "print(cities_list)\n",
    "\n",
    "#print individual items from the list\n",
    "print(cities_list[0], cities_list[1])\n",
    "\n",
    "#indexing also works in reverse\n",
    "print(cities_list[-1])\n",
    "\n",
    "#assign variable names to list items (remember, you can assign a variable name to anything)\n",
    "important_city = cities_list[3]\n",
    "print(important_city)"
   ]
  },
  {
   "cell_type": "code",
   "execution_count": null,
   "metadata": {},
   "outputs": [],
   "source": [
    "#Dictionaries are accessed through the key name. Dictionaries are\n",
    "#not ordered, so you cannot use indexing.\n",
    "\n",
    "#print the whole thing\n",
    "print(cities_dict)\n",
    "\n",
    "#this is the syntax to access an individual value, via the key\n",
    "print(cities_dict['United States'])\n",
    "print(cities_dict['Australia'])\n",
    "\n",
    "#remember, you can give a create a new variable for anything\n",
    "india_capital = cities_dict['India']\n",
    "#f strings. Make your strings look nice!\n",
    "print(f\"The capital of India is {india_capital}\")"
   ]
  },
  {
   "cell_type": "code",
   "execution_count": null,
   "metadata": {},
   "outputs": [],
   "source": [
    "#You cannot access a dictionary item using the value\n",
    "print(cities_dict['Paris'])"
   ]
  },
  {
   "cell_type": "markdown",
   "metadata": {},
   "source": [
    "## Loops\n",
    "Loops are another fundamental concept in programming. Basically, loops allow you to do an operation multiple times"
   ]
  },
  {
   "cell_type": "code",
   "execution_count": null,
   "metadata": {},
   "outputs": [],
   "source": [
    "#spaces are (usually) NOT significant in python\n",
    "#but indention IS significant. Anything under and indention is \n",
    "#considered part of the code above it\n",
    "\n",
    "for city in cities_list:\n",
    "    print(city)"
   ]
  },
  {
   "cell_type": "code",
   "execution_count": null,
   "metadata": {},
   "outputs": [],
   "source": [
    "numbers_list = [1,2,3,4,5]\n",
    "\n",
    "for number in numbers_list:\n",
    "    number = number + 1\n",
    "    print(number)"
   ]
  },
  {
   "cell_type": "code",
   "execution_count": null,
   "metadata": {},
   "outputs": [],
   "source": [
    "for key, value in cities_dict.items():\n",
    "    print(f\"{value} is the capital of {key}\")"
   ]
  },
  {
   "cell_type": "markdown",
   "metadata": {},
   "source": [
    "## Imports\n",
    "The world of python is wide. Many other people have written code that you can import and use. You can also write your own code, and then write something else later and import what you've written. Some extra functionality is built into python (or Anaconda). Otherwise you need to install extra stuff before using it."
   ]
  },
  {
   "cell_type": "code",
   "execution_count": null,
   "metadata": {},
   "outputs": [],
   "source": [
    "#the random module comes with base python and provides all kinds\n",
    "# of functions to allow you to do things with random numbers, etc.\n",
    "import random"
   ]
  },
  {
   "cell_type": "code",
   "execution_count": null,
   "metadata": {},
   "outputs": [],
   "source": [
    "#now I can use any feature of the random module. There are many.\n",
    "\n",
    "#this prints a random integer between 0 and 20\n",
    "random_number = random.randint(0,20)\n",
    "\n",
    "print(random_number)     #this will change!"
   ]
  },
  {
   "cell_type": "markdown",
   "metadata": {},
   "source": [
    "## Conditionals & Booleans\n",
    "Think of conditionals like a fork in the road. If one thing happens with the code, do this. If something else happens with the code, do that.\n",
    "\n",
    "Basically, the conditional statement evaluates your code as 'true' or 'false'. Then, makes a decision based on that value.\n",
    "\n",
    "These are also called \"if/elif/else\" statements. See the following example to see how it happens\n",
    "\n"
   ]
  },
  {
   "cell_type": "code",
   "execution_count": null,
   "metadata": {},
   "outputs": [],
   "source": [
    "random_number = random.randint(0, 100)\n",
    "print(f\"The random number is: {random_number}\")\n",
    "\n",
    "if random_number > 50:      #if this statement is true?, do this\n",
    "    print(\"The number is greater than 50\")\n",
    "elif random_number < 50:    #if not, is this statement true? do this\n",
    "    print(\"The number is less than 50\")\n",
    "else:                        #if none of the above are true, do this\n",
    "    print(\"The number is exactly 50\")\n"
   ]
  },
  {
   "cell_type": "markdown",
   "metadata": {},
   "source": [
    "\n",
    "# REAL WORLD EXAMPLES\n",
    "\n",
    "Now that you have seen a very quick tour of the basics, let's work with some real world data snd see these things in action.\n",
    "\n",
    "First, let's gather some data"
   ]
  },
  {
   "cell_type": "markdown",
   "metadata": {},
   "source": [
    "## API Data - [OpenWeatherMap](https://openweathermap.org/)\n",
    "Let's gather some weather data from OpenWeatherMap. OpenWeatherMap is a weather service, which exposes their data through an API\n",
    "\n",
    "### API \n",
    "[Application programming interface](https://www.howtogeek.com/343877/what-is-an-api/). Basically, an API allows computers (or applications) to talk to one another. OpenWeatherMap has made their data publicly available, so you can gather some data and then use it for your own purposes. \n",
    "\n",
    "Basically, you sign up to use the [OpenWeatherMap API](https://openweathermap.org/api) and they provide documentation of how to use the service, with code examples. I have followed the documentation examples and now can gather weather data from them."
   ]
  },
  {
   "cell_type": "code",
   "execution_count": null,
   "metadata": {},
   "outputs": [],
   "source": [
    "!conda install --yes requests"
   ]
  },
  {
   "cell_type": "code",
   "execution_count": null,
   "metadata": {},
   "outputs": [],
   "source": [
    "#Now we need to import these libraries in order to use them\n",
    "\n",
    "import requests\n",
    "import json      #this library is already installed in base python"
   ]
  },
  {
   "cell_type": "code",
   "execution_count": null,
   "metadata": {},
   "outputs": [],
   "source": [
    "#Note: this is my API key and is only being used for example purposes. Please don't spam OpenWeatherMap using my API key.\n",
    "#sign up for your own API key here: https://home.openweathermap.org/users/sign_up\n",
    "app_id = '333de4e909a5ffe9bfa46f0f89cad105'                    \n",
    "\n",
    "#Each city in the world has a unique id number. There are over 1,000,000 so I have given you a few to start with.\n",
    "#You are welcome to look in the data dictionary for more.\n",
    "city_id_dict = {'Charlottesville': 4752046,                                     \n",
    "                'New York': 5128581,\n",
    "                'Chicago': 4887398,\n",
    "                'Paris': 6455259,\n",
    "                'Cape Town': 3369157,\n",
    "                'Beirut': 276781,\n",
    "                'Dubai': 292223,\n",
    "                'Shanghai': 1796236,\n",
    "                'Moscow': 524901,\n",
    "                'Addis Ababa': 344979,\n",
    "                'Bangkok': 1609350,\n",
    "                'Oslo': 6453366,\n",
    "                'Sao Paulo': 3448439,\n",
    "                'Bogota': 3688689,\n",
    "                'Havana': 3553478}"
   ]
  },
  {
   "cell_type": "markdown",
   "metadata": {},
   "source": [
    "## Making HTTP Requests\n",
    "We will use the .get() function from the requests library to submit an HTTP request to OpenWeatherMap for today's weather. \n",
    "\n",
    "Basically, we submit a request via a URL. This goes to the server at OpenWeatherMap, and then data is sent back to us. "
   ]
  },
  {
   "cell_type": "code",
   "execution_count": null,
   "metadata": {},
   "outputs": [],
   "source": [
    "city_name = 'Oslo'        #change the city name here\n",
    "city_id_string = str(city_id_dict[f'{city_name}'])                                         \n",
    "\n",
    "#Make a request to get today's weather. This is straight from the documentation.\n",
    "request = requests.get(f'http://api.openweathermap.org/data/2.5/group?APPID={app_id}&id={city_id_string}&units=imperial')               #this actually makes the request to the API via the URL with correct parameters"
   ]
  },
  {
   "cell_type": "markdown",
   "metadata": {},
   "source": [
    "## JSON\n",
    "JSON stands for \"Javascript Object Notation\". Basically, JSON is just a structured textual data format. Just like CSV. JSON is not specific to python and can be read in many different languages. \n",
    "\n",
    "JSON data in python terms is basically nested dictionaries and lists"
   ]
  },
  {
   "cell_type": "code",
   "execution_count": null,
   "metadata": {},
   "outputs": [],
   "source": [
    "#Now let's look at the data. See that is is nested dictionaries and lists\n",
    "\n",
    "json_data = json.loads(request.text)\n",
    "print(json_data)\n"
   ]
  },
  {
   "cell_type": "code",
   "execution_count": null,
   "metadata": {},
   "outputs": [],
   "source": [
    "#Take my word for it, this is how to drill down and\n",
    "#get to the interesting information\n",
    "\n",
    "temp_today = json_data['list'][0]['main']['temp']\n",
    "print(f\"Today in {city_name} the temperature is {temp_today}F\")"
   ]
  },
  {
   "cell_type": "code",
   "execution_count": null,
   "metadata": {},
   "outputs": [],
   "source": [
    "#Now lets gather the temperature today for all cities in city_id_dict\n",
    "#First I am going to extract the city_names from the dictionary\n",
    "\n",
    "city_names = []\n",
    "\n",
    "for city in city_id_dict.keys():\n",
    "    city_names.append(city)\n",
    "    \n",
    "print(city_names)   #now I have a list of cities\n",
    "    \n",
    "\n"
   ]
  },
  {
   "cell_type": "code",
   "execution_count": null,
   "metadata": {},
   "outputs": [],
   "source": [
    "#Now let's get today's temperature for each city\n",
    "\n",
    "weather_data = {}\n",
    "\n",
    "for city in city_names:\n",
    "    \n",
    "    city_id_string = str(city_id_dict[f'{city}'])\n",
    "    \n",
    "    request = requests.get(f'http://api.openweathermap.org/data/2.5/group?APPID={app_id}&id={city_id_string}&units=imperial')       \n",
    "    \n",
    "    json_data = json.loads(request.text)\n",
    "    \n",
    "    temp_today = json_data['list'][0]['main']['temp']\n",
    "    \n",
    "    weather_data[city] = temp_today  #I am updating the weather_data dictionary with the weather info\n",
    "\n",
    "print(weather_data)"
   ]
  },
  {
   "cell_type": "code",
   "execution_count": null,
   "metadata": {},
   "outputs": [],
   "source": [
    "#Now I can do fun things with this data in the dictionary\n",
    "\n",
    "coldest_weather = min(weather_data, key=weather_data.get)\n",
    "hottest_weather = max(weather_data, key=weather_data.get)\n",
    "\n",
    "print(f\"The coldest weather today is in {coldest_weather}\")\n",
    "print(f\"The hottest weather today is in {hottest_weather}\")"
   ]
  },
  {
   "cell_type": "markdown",
   "metadata": {},
   "source": [
    "# Pandas\n",
    "[Pandas Documentation](https://pandas.pydata.org/)\n",
    "\n",
    "A heavily used library which gives you a \"spreadsheet-like\" view of your data and allows you to easily manipulate it.\n",
    "\n",
    "Pandas uses the 'dataframe' object which organizes data into rows and columns. You can access the data in these rows and columns using either column headers or row indexing. A pandas dataframe is a 2-Dimensional object, and each individual row or column in the dataframe is a pandas series, which is a 1-Dimensional object."
   ]
  },
  {
   "cell_type": "code",
   "execution_count": null,
   "metadata": {},
   "outputs": [],
   "source": [
    "#first we have to import pandas\n",
    "\n",
    "#I have renamed pandas as 'pd'. This is not required but is convention\n",
    "#basically I have given a variable name to an entire library!\n",
    "import pandas as pd    "
   ]
  },
  {
   "cell_type": "code",
   "execution_count": null,
   "metadata": {},
   "outputs": [],
   "source": [
    "#Now lets take our weather_data and make it a pandas dataframe\n",
    "#notice, I renamed weather_data, effectively overwriting it\n",
    "weather_data = pd.DataFrame(weather_data.items(), columns=['City', 'Temperature'])\n",
    "\n",
    "print(weather_data)\n",
    "\n"
   ]
  },
  {
   "cell_type": "code",
   "execution_count": null,
   "metadata": {},
   "outputs": [],
   "source": [
    "#print dataframe columns using dictionary syntax\n",
    "print(weather_data['Temperature'])"
   ]
  },
  {
   "cell_type": "code",
   "execution_count": null,
   "metadata": {},
   "outputs": [],
   "source": [
    "#print dataframe rows using row indexing using .loc() function\n",
    "#look to the left of the results above. Those are row indexes\n",
    "\n",
    "#just like a list\n",
    "print(weather_data.loc[2])\n",
    "\n",
    "print()\n",
    "\n",
    "#or access it by value, just like a dictionary\n",
    "#this is tricky because first you have to locate the value in\n",
    "#the 'city' column\n",
    "print(weather_data.loc[weather_data['City'] == 'Chicago'])"
   ]
  },
  {
   "cell_type": "code",
   "execution_count": null,
   "metadata": {},
   "outputs": [],
   "source": [
    "#let's make this a little more interesting. \n",
    "#I have included a file for all of you about Mike Trout, baseball player\n",
    "#with his career statistics\n",
    "\n",
    "#####ERASE THIS\n",
    "#df = pd.read_csv('/Users/ep9k/Desktop/PythonDataViz-master/MikeTroutData.csv')\n",
    "\n",
    "\n",
    "###USE THIS IN CLASS\n",
    "df = pd.read_csv('MikeTroutData.csv')\n",
    "\n",
    "print(df)"
   ]
  },
  {
   "cell_type": "markdown",
   "metadata": {},
   "source": [
    "## Math with pandas dataframes\n",
    "You can manipulate the data frames just like you would any other object."
   ]
  },
  {
   "cell_type": "code",
   "execution_count": null,
   "metadata": {},
   "outputs": [],
   "source": [
    "#I am removing a few columns to make room for a new one\n",
    "del df['Age']\n",
    "del df['G']\n",
    "del df['AB']\n",
    "\n",
    "#I am renaming some of the columns just to make things look nice\n",
    "home_runs = df['HR']\n",
    "salary = df['Salary']\n",
    "year = df['Year']\n",
    "\n",
    "#Now create a new column based on values of other columns\n",
    "df['pay_per_home_run'] = salary/home_runs\n",
    "pay_per_home_run = df['pay_per_home_run']\n",
    "\n",
    "print(df)\n"
   ]
  },
  {
   "cell_type": "markdown",
   "metadata": {},
   "source": [
    "## [Matplotlib](https://matplotlib.org/)\n",
    "\n",
    "Matplotlib is a python 2D plotting library which produces publication quality figures in a variety of hardcopy formats and interactive environments across platforms. Matplotlib can be used in python scripts, the python and IPython shells, Jupyter Notebook, etc. Matplotlib tries to make easy things easy and hard things possible.\n",
    "\n",
    "From [Matplotlib's Wikipedia page](https://en.wikipedia.org/wiki/Matplotlib): Matplotlib is a plotting library for the python programming language and its numerical mathematics extension, NumPy. It provides an object-oriented API for embedding plots into applications."
   ]
  },
  {
   "cell_type": "code",
   "execution_count": null,
   "metadata": {},
   "outputs": [],
   "source": [
    "%matplotlib notebook\n",
    "import matplotlib.pyplot as plt\n",
    "import matplotlib.ticker as ticker\n",
    "\n",
    "plt.bar(year, pay_per_home_run)"
   ]
  },
  {
   "cell_type": "code",
   "execution_count": null,
   "metadata": {},
   "outputs": [],
   "source": [
    "#Now let's make the graph look nice. You can make it look any way you want!\n",
    "\n",
    "fig, ax = plt.subplots()\n",
    "\n",
    "plt.xlabel('Year')\n",
    "plt.xticks(rotation=45)\n",
    "plt.xticks(year)\n",
    "\n",
    "formatter = ticker.FormatStrFormatter('$%.0f')     #formatting y axis as dollar amounts\n",
    "ax.yaxis.set_major_formatter(formatter)\n",
    "\n",
    "plt.ylabel('Price')           \n",
    "plt.suptitle('Mike Trout Yearly Pay Per Home Run')\n",
    "plt.bar(year, pay_per_home_run)\n",
    "plt.show()"
   ]
  },
  {
   "cell_type": "code",
   "execution_count": null,
   "metadata": {},
   "outputs": [],
   "source": []
  }
 ],
 "metadata": {
  "kernelspec": {
   "display_name": "Python 3",
   "language": "python",
   "name": "python3"
  },
  "language_info": {
   "codemirror_mode": {
    "name": "ipython",
    "version": 3
   },
   "file_extension": ".py",
   "mimetype": "text/x-python",
   "name": "python",
   "nbconvert_exporter": "python",
   "pygments_lexer": "ipython3",
   "version": "3.7.4"
  }
 },
 "nbformat": 4,
 "nbformat_minor": 2
}
